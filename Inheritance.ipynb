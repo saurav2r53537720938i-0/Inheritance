{
 "cells": [
  {
   "cell_type": "code",
   "execution_count": 1,
   "id": "4d546e62-c519-4a49-96ef-9c2cf0b1cf02",
   "metadata": {},
   "outputs": [],
   "source": [
    "class test:\n",
    "    \n",
    "    def test_math(self):\n",
    "        return\"this is my first class\""
   ]
  },
  {
   "cell_type": "code",
   "execution_count": 3,
   "id": "b5073fa7-b074-4189-b9e5-61c1b8cde901",
   "metadata": {},
   "outputs": [],
   "source": [
    "class child_test(test):\n",
    "    pass"
   ]
  },
  {
   "cell_type": "code",
   "execution_count": 4,
   "id": "5cf9ef0a-0b15-4faa-8010-6f6ec73482c5",
   "metadata": {},
   "outputs": [],
   "source": [
    "child_test_obj = child_test()"
   ]
  },
  {
   "cell_type": "code",
   "execution_count": 5,
   "id": "c6f0330d-ab0b-40dc-8fe7-27150910c2b1",
   "metadata": {},
   "outputs": [
    {
     "data": {
      "text/plain": [
       "'this is my first class'"
      ]
     },
     "execution_count": 5,
     "metadata": {},
     "output_type": "execute_result"
    }
   ],
   "source": [
    "child_test_obj.test_math()"
   ]
  },
  {
   "cell_type": "code",
   "execution_count": 6,
   "id": "a5f9972d-d149-4a55-b6bb-7312550c5744",
   "metadata": {},
   "outputs": [],
   "source": [
    "class class1:\n",
    "    \n",
    "    def test_class1(self):\n",
    "        return\"this is a math from class1\""
   ]
  },
  {
   "cell_type": "code",
   "execution_count": 7,
   "id": "d26d06c1-1d4d-418a-ac9d-b1c2e6869668",
   "metadata": {},
   "outputs": [],
   "source": [
    "class class2:\n",
    "    def test_class2(self):\n",
    "        return\"this is a math from class2\""
   ]
  },
  {
   "cell_type": "code",
   "execution_count": 8,
   "id": "2177149d-4f37-498c-b363-b7f2c321a71e",
   "metadata": {},
   "outputs": [],
   "source": [
    "class class3(class1,class2):\n",
    "    pass"
   ]
  },
  {
   "cell_type": "code",
   "execution_count": 9,
   "id": "8ecc45c4-1cc3-4daf-8c54-ff233d817e34",
   "metadata": {},
   "outputs": [],
   "source": [
    "obj_class3 = class3()"
   ]
  },
  {
   "cell_type": "code",
   "execution_count": 10,
   "id": "6dcfd4ba-d601-47f7-a637-25317ab4c894",
   "metadata": {},
   "outputs": [
    {
     "data": {
      "text/plain": [
       "'this is a math from class1'"
      ]
     },
     "execution_count": 10,
     "metadata": {},
     "output_type": "execute_result"
    }
   ],
   "source": [
    "obj_class3.test_class1()"
   ]
  },
  {
   "cell_type": "code",
   "execution_count": 11,
   "id": "28751155-af6a-4c65-8a13-1e9ea216a895",
   "metadata": {},
   "outputs": [
    {
     "data": {
      "text/plain": [
       "'this is a math from class2'"
      ]
     },
     "execution_count": 11,
     "metadata": {},
     "output_type": "execute_result"
    }
   ],
   "source": [
    "obj_class3.test_class2()"
   ]
  },
  {
   "cell_type": "code",
   "execution_count": 12,
   "id": "a3d53dea-d7ef-4660-b1a3-356d24e5956d",
   "metadata": {},
   "outputs": [],
   "source": [
    "class class1:\n",
    "    \n",
    "    def test_class1(self):\n",
    "        return\"this is class1\""
   ]
  },
  {
   "cell_type": "code",
   "execution_count": 13,
   "id": "5c9bfc58-5b43-486e-98d3-dcc833d79421",
   "metadata": {},
   "outputs": [],
   "source": [
    "class class2:\n",
    "    \n",
    "    def test_class2(self):\n",
    "        return\"this is class2\""
   ]
  },
  {
   "cell_type": "code",
   "execution_count": 14,
   "id": "53f8c764-1fff-4d9b-8d1b-6a62db6ff3c9",
   "metadata": {},
   "outputs": [],
   "source": [
    "class class3(class1,class2):\n",
    "    pass"
   ]
  },
  {
   "cell_type": "code",
   "execution_count": 15,
   "id": "cc7474b3-d6ed-4bc0-98d7-8b77097f022b",
   "metadata": {},
   "outputs": [],
   "source": [
    "obj_class3 = class3()"
   ]
  },
  {
   "cell_type": "code",
   "execution_count": 16,
   "id": "c187d927-7b34-495b-a363-71a17390de71",
   "metadata": {},
   "outputs": [
    {
     "data": {
      "text/plain": [
       "<bound method class1.test_class1 of <__main__.class3 object at 0x7f88da7dac20>>"
      ]
     },
     "execution_count": 16,
     "metadata": {},
     "output_type": "execute_result"
    }
   ],
   "source": [
    "obj_class3.test_class1"
   ]
  },
  {
   "cell_type": "code",
   "execution_count": null,
   "id": "e2e00f24-6cc2-4211-bfae-1476c6126f3e",
   "metadata": {},
   "outputs": [],
   "source": [
    "obj_class3.test_class2()"
   ]
  }
 ],
 "metadata": {
  "kernelspec": {
   "display_name": "Python 3 (ipykernel)",
   "language": "python",
   "name": "python3"
  },
  "language_info": {
   "codemirror_mode": {
    "name": "ipython",
    "version": 3
   },
   "file_extension": ".py",
   "mimetype": "text/x-python",
   "name": "python",
   "nbconvert_exporter": "python",
   "pygments_lexer": "ipython3",
   "version": "3.10.8"
  }
 },
 "nbformat": 4,
 "nbformat_minor": 5
}
